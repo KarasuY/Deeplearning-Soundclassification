{
  "nbformat": 4,
  "nbformat_minor": 0,
  "metadata": {
    "colab": {
      "name": "preprocessing.ipynb",
      "provenance": [],
      "collapsed_sections": [],
      "include_colab_link": true
    },
    "kernelspec": {
      "name": "python3",
      "display_name": "Python 3"
    },
    "accelerator": "GPU"
  },
  "cells": [
    {
      "cell_type": "markdown",
      "metadata": {
        "id": "view-in-github",
        "colab_type": "text"
      },
      "source": [
        "<a href=\"https://colab.research.google.com/github/mcui5/dl-final/blob/main/preprocessing.ipynb\" target=\"_parent\"><img src=\"https://colab.research.google.com/assets/colab-badge.svg\" alt=\"Open In Colab\"/></a>"
      ]
    },
    {
      "cell_type": "markdown",
      "metadata": {
        "id": "dWqrV5Y-zbNM"
      },
      "source": [
        "Importing needed libraries for preprocessing"
      ]
    },
    {
      "cell_type": "code",
      "metadata": {
        "id": "zv65T-ql9z-B"
      },
      "source": [
        "import matplotlib.pyplot as plt\n",
        "import numpy as np\n",
        "import librosa\n",
        "import librosa.display\n",
        "import os, sys \n",
        "import pandas as pd\n",
        "import pickle"
      ],
      "execution_count": null,
      "outputs": []
    },
    {
      "cell_type": "markdown",
      "metadata": {
        "id": "yysfk-FS9rC8"
      },
      "source": [
        "Sound feature extraction method: Mel-frequency cepstral coefficients\n",
        "\n",
        "The time-series feature matrices of one sound extracted by mfcc resulted in a (173, 40) input data per sound.\n",
        "\n",
        "The column direction contained the time-series data, whereas the row direction contained the feature data of a specific time. Only four-second long files were used, allowing the unification of the input data size."
      ]
    },
    {
      "cell_type": "code",
      "metadata": {
        "colab": {
          "base_uri": "https://localhost:8080/"
        },
        "id": "ZDAFhJ1JzrqS",
        "outputId": "f06ce175-e1fc-41ff-dae0-aa6a8ea0c05d"
      },
      "source": [
        "from google.colab import drive #Can ignore if done locally\n",
        "drive.mount('/content/gdrive')"
      ],
      "execution_count": null,
      "outputs": [
        {
          "output_type": "stream",
          "text": [
            "Mounted at /content/gdrive\n"
          ],
          "name": "stdout"
        }
      ]
    },
    {
      "cell_type": "code",
      "metadata": {
        "id": "iHZ50DD1A87k"
      },
      "source": [
        "#!tar -xvf  '/content/gdrive/Shared drives/CS1470-Final/UrbanSound8K.tar.gz' -C '/content/gdrive/Shared drives/CS1470-Final'"
      ],
      "execution_count": null,
      "outputs": []
    },
    {
      "cell_type": "code",
      "metadata": {
        "id": "aBGE7imMRW32"
      },
      "source": [
        "'''\n",
        "Original - removes every sound clip not exactly 4 seconds\n",
        "'''\n",
        "def get_features(filename):\n",
        "  num_mfcc = 40\n",
        "  try:\n",
        "    audio, SR = librosa.load(filename)\n",
        "    mfcc = librosa.feature.mfcc(audio, sr=SR, n_mfcc=num_mfcc)\n",
        "  except Exception as e:\n",
        "    print('Error encountered getting features, file: ', filename)\n",
        "    return None\n",
        "\n",
        "  return mfcc\n",
        "\n",
        "audio_path = '/content/gdrive/Shared drives/CS1470-Final/UrbanSound8K/audio'\n",
        "csv_metadata = pd.read_csv(audio_path + '/../metadata/UrbanSound8K.csv')\n",
        "\n",
        "collected_mfccs = []\n",
        "\n",
        "for i, row in csv_metadata.iterrows(): \n",
        "  curr_file = os.path.join(os.path.abspath(audio_path),'fold'+str(row[\"fold\"])+'/',str(row[\"slice_file_name\"]))\n",
        "  curr_class = row['classID']\n",
        "  if row['end'] - row['start'] == 4:\n",
        "    curr_mfcc = np.transpose(get_features(curr_file))\n",
        "    \n",
        "    # inputs, label, folder \n",
        "    collected_mfccs.append([np.ndarray.tolist(curr_mfcc), curr_class, row[\"fold\"]])\n",
        "\n",
        "pickle.dump(collected_mfccs, open('mfccs.pkl', 'wb'))"
      ],
      "execution_count": null,
      "outputs": []
    },
    {
      "cell_type": "code",
      "metadata": {
        "colab": {
          "base_uri": "https://localhost:8080/",
          "height": 34
        },
        "id": "6NZrBOkNVqHA",
        "outputId": "12885763-7718-45fc-cae2-537fa9250f18"
      },
      "source": [
        "from google.colab import files\n",
        "files.download('mfccs.pkl')"
      ],
      "execution_count": null,
      "outputs": [
        {
          "output_type": "display_data",
          "data": {
            "application/javascript": [
              "\n",
              "    async function download(id, filename, size) {\n",
              "      if (!google.colab.kernel.accessAllowed) {\n",
              "        return;\n",
              "      }\n",
              "      const div = document.createElement('div');\n",
              "      const label = document.createElement('label');\n",
              "      label.textContent = `Downloading \"${filename}\": `;\n",
              "      div.appendChild(label);\n",
              "      const progress = document.createElement('progress');\n",
              "      progress.max = size;\n",
              "      div.appendChild(progress);\n",
              "      document.body.appendChild(div);\n",
              "\n",
              "      const buffers = [];\n",
              "      let downloaded = 0;\n",
              "\n",
              "      const channel = await google.colab.kernel.comms.open(id);\n",
              "      // Send a message to notify the kernel that we're ready.\n",
              "      channel.send({})\n",
              "\n",
              "      for await (const message of channel.messages) {\n",
              "        // Send a message to notify the kernel that we're ready.\n",
              "        channel.send({})\n",
              "        if (message.buffers) {\n",
              "          for (const buffer of message.buffers) {\n",
              "            buffers.push(buffer);\n",
              "            downloaded += buffer.byteLength;\n",
              "            progress.value = downloaded;\n",
              "          }\n",
              "        }\n",
              "      }\n",
              "      const blob = new Blob(buffers, {type: 'application/binary'});\n",
              "      const a = document.createElement('a');\n",
              "      a.href = window.URL.createObjectURL(blob);\n",
              "      a.download = filename;\n",
              "      div.appendChild(a);\n",
              "      a.click();\n",
              "      div.remove();\n",
              "    }\n",
              "  "
            ],
            "text/plain": [
              "<IPython.core.display.Javascript object>"
            ]
          },
          "metadata": {
            "tags": []
          }
        },
        {
          "output_type": "display_data",
          "data": {
            "application/javascript": [
              "download(\"download_8d500530-a3de-47fc-8e18-9f5afc51399d\", \"mfccs.pkl\", 418596763)"
            ],
            "text/plain": [
              "<IPython.core.display.Javascript object>"
            ]
          },
          "metadata": {
            "tags": []
          }
        }
      ]
    },
    {
      "cell_type": "code",
      "metadata": {
        "id": "U-uMQVmZidmU"
      },
      "source": [
        "'''\n",
        "Moved to LSTM_3 file\n",
        "'''\n",
        "def preprocess(filepath): \n",
        "  \"\"\"\n",
        "    1. Unpickle file\n",
        "    2. Separate \n",
        "    3. One-hot encode labels \n",
        "\n",
        "    :inputs: \n",
        "    filepath: filepath to the pickle file in Drive \n",
        "\n",
        "    :returns: \n",
        "    (inputs, labels, folders)\n",
        "  \"\"\"\n",
        "  \n",
        "  with open(filepath, 'rb') as fo:\n",
        "    pickle_output = pickle.load(fo, encoding='bytes')\n",
        "  \n",
        "  inputs = [row[0] for row in pickle_output]\n",
        "  inputs = [inputs[i][:173] for i in range(len(inputs))]\n",
        "  inputs = np.array(inputs)\n",
        "  labels = np.array(pickle_output)[:, 1]\n",
        "  folders = np.array(pickle_output)[:, 2]\n",
        "\n",
        "  return (inputs, labels, folders)"
      ],
      "execution_count": null,
      "outputs": []
    },
    {
      "cell_type": "code",
      "metadata": {
        "colab": {
          "base_uri": "https://localhost:8080/"
        },
        "id": "kmhVPpKg4e41",
        "outputId": "3aa4d0e7-0142-4188-c75d-52effba78171"
      },
      "source": [
        "pickled_path = '/content/gdrive/Shared drives/CS1470-Final/mfccs.pkl'\n",
        "inputs, labels, folders = preprocess(pickled_path)\n",
        "id0 = np.nonzero(labels == 0)\n",
        "id1 = np.nonzero(labels == 1)\n",
        "id2 = np.nonzero(labels == 2)\n",
        "id3 = np.nonzero(labels == 3)\n",
        "id4 = np.nonzero(labels == 4)\n",
        "id5 = np.nonzero(labels == 5)\n",
        "id6 = np.nonzero(labels == 6)\n",
        "id7 = np.nonzero(labels == 7)\n",
        "id8 = np.nonzero(labels == 8)\n",
        "id9 = np.nonzero(labels == 9)\n",
        "\n",
        "print('Class ID 0: ' + str(np.shape(id0)))\n",
        "print('Class ID 1: ' + str(np.shape(id1)))\n",
        "print('Class ID 2: ' + str(np.shape(id2)))\n",
        "print('Class ID 3: ' + str(np.shape(id3)))\n",
        "print('Class ID 4: ' + str(np.shape(id4)))\n",
        "print('Class ID 5: ' + str(np.shape(id5)))\n",
        "print('Class ID 6: ' + str(np.shape(id6)))\n",
        "print('Class ID 7: ' + str(np.shape(id7)))\n",
        "print('Class ID 8: ' + str(np.shape(id8)))\n",
        "print('Class ID 9: ' + str(np.shape(id9)))"
      ],
      "execution_count": null,
      "outputs": [
        {
          "output_type": "stream",
          "text": [
            "Class ID 0: (1, 970)\n",
            "Class ID 1: (1, 180)\n",
            "Class ID 2: (1, 938)\n",
            "Class ID 3: (1, 566)\n",
            "Class ID 4: (1, 677)\n",
            "Class ID 5: (1, 817)\n",
            "Class ID 6: (1, 16)\n",
            "Class ID 7: (1, 734)\n",
            "Class ID 8: (1, 726)\n",
            "Class ID 9: (1, 949)\n"
          ],
          "name": "stdout"
        }
      ]
    },
    {
      "cell_type": "code",
      "metadata": {
        "id": "5tfK7uwnj9du"
      },
      "source": [
        "'''\n",
        "Moved to LSTM_3 file\n",
        "'''\n",
        "def split(inputs, labels, folders, test_folder_idx):\n",
        "  \"\"\"\n",
        "    Split data into training and testing data \n",
        "\n",
        "    :inputs: \n",
        "    the outputs from preprocess \n",
        "    test_folder_idx: index of the folder that will be used for testing\n",
        "\n",
        "    :return: \n",
        "    one quadruple, (train_inputs, train_labels, test_inputs, test_labels)\n",
        "  \"\"\"\n",
        "  test_indices = np.nonzero(folders == test_folder_idx)\n",
        "  train_indices = np.nonzero(folders != test_folder_idx)\n",
        "\n",
        "  return (inputs[train_indices], labels[train_indices], inputs[test_indices], labels[test_indices])"
      ],
      "execution_count": null,
      "outputs": []
    },
    {
      "cell_type": "code",
      "metadata": {
        "id": "CZ9pedIOq0sc"
      },
      "source": [
        "'''\n",
        "Move into model files \n",
        "'''\n",
        "def shuffle(inputs, labels, test_fraction):\n",
        "  '''\n",
        "  shuffle collection of all data, and split into testing and training, 15%:85%\n",
        "\n",
        "  :inputs: \n",
        "    the outputs from preprocess (inputs and labels)\n",
        "    test_fraction: percentage of inputs that will be used for testing\n",
        "  \n",
        "  :return: \n",
        "    one quadruple, (train_inputs, train_labels, test_inputs, test_labels)\n",
        "  '''\n",
        "  indices = np.arange(labels.shape[0])\n",
        "  np.random.shuffle(indices)\n",
        "  inputs = np.take(inputs, indices, axis=0)\n",
        "  labels = np.take(labels, indices, axis=0)\n",
        "\n",
        "  num_test = int(test_fraction * labels.shape[0])\n",
        "  test_inputs = inputs[:num_test]\n",
        "  test_labels = labels[:num_test]\n",
        "  train_inputs = inputs[num_test:]\n",
        "  train_labels = labels[num_test:]\n",
        "\n",
        "  return (train_inputs, train_labels, test_inputs, test_labels)"
      ],
      "execution_count": null,
      "outputs": []
    }
  ]
}