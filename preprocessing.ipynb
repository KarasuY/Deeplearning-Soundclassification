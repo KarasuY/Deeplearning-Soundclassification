{
  "nbformat": 4,
  "nbformat_minor": 0,
  "metadata": {
    "colab": {
      "name": "preprocessing.ipynb",
      "provenance": [],
      "collapsed_sections": []
    },
    "kernelspec": {
      "name": "python3",
      "display_name": "Python 3"
    }
  },
  "cells": [
    {
      "cell_type": "markdown",
      "metadata": {
        "id": "dWqrV5Y-zbNM"
      },
      "source": [
        "Importing needed libraries for preprocessing"
      ]
    },
    {
      "cell_type": "code",
      "metadata": {
        "id": "zv65T-ql9z-B"
      },
      "source": [
        "import matplotlib.pyplot as plt\n",
        "import numpy as np\n",
        "import h5py \n",
        "import librosa\n",
        "import librosa.display\n",
        "import os, sys \n",
        "import time\n",
        "import pandas as pd\n",
        "import pickle"
      ],
      "execution_count": 1,
      "outputs": []
    },
    {
      "cell_type": "markdown",
      "metadata": {
        "id": "yysfk-FS9rC8"
      },
      "source": [
        "Sound feature extraction method: Mel-frequency cepstral coefficients\n",
        "\n",
        "The time-series feature matrices of one sound extracted by mfcc resulted in a (173, 40) input data per sound.\n",
        "\n",
        "The column direction contained the time-series data, whereas the row direction contained the feature data of a specific time. Only four-second long files were used, allowing the unification of the input data size."
      ]
    },
    {
      "cell_type": "code",
      "metadata": {
        "colab": {
          "base_uri": "https://localhost:8080/"
        },
        "id": "ZDAFhJ1JzrqS",
        "outputId": "6c270f12-2c69-4a5c-e594-ade96701d826"
      },
      "source": [
        "from google.colab import drive #Can ignore if done locally\n",
        "drive.mount('/content/gdrive')"
      ],
      "execution_count": 2,
      "outputs": [
        {
          "output_type": "stream",
          "text": [
            "Mounted at /content/gdrive\n"
          ],
          "name": "stdout"
        }
      ]
    },
    {
      "cell_type": "code",
      "metadata": {
        "id": "iHZ50DD1A87k"
      },
      "source": [
        "#!tar -xvf  '/content/gdrive/Shared drives/CS1470-Final/UrbanSound8K.tar.gz' -C '/content/gdrive/Shared drives/CS1470-Final'"
      ],
      "execution_count": null,
      "outputs": []
    },
    {
      "cell_type": "code",
      "metadata": {
        "colab": {
          "base_uri": "https://localhost:8080/",
          "height": 17
        },
        "id": "aBGE7imMRW32",
        "outputId": "367d6964-041f-46b0-d341-558c96c00d50"
      },
      "source": [
        "def get_features(filename):\n",
        "  num_mfcc = 40\n",
        "  try:\n",
        "    audio, SR = librosa.load(filename)\n",
        "    mfcc = librosa.feature.mfcc(audio, sr=SR, n_mfcc=num_mfcc)\n",
        "  except Exception as e:\n",
        "    print('Error encountered getting features, file: ', filename)\n",
        "    return None\n",
        "\n",
        "  return mfcc\n",
        "\n",
        "audio_path = '/content/gdrive/Shared drives/CS1470-Final/UrbanSound8K/audio'\n",
        "csv_metadata = pd.read_csv(audio_path + '/../metadata/UrbanSound8K.csv')\n",
        "\n",
        "collected_mfccs = []\n",
        "\n",
        "for i, row in csv_metadata.iterrows(): \n",
        "  curr_file = os.path.join(os.path.abspath(audio_path),'fold'+str(row[\"fold\"])+'/',str(row[\"slice_file_name\"]))\n",
        "  curr_class = row['classID']\n",
        "  if row['end'] - row['start'] == 4:\n",
        "    curr_mfcc = np.transpose(get_features(curr_file))\n",
        "    collected_mfccs.append([curr_mfcc, curr_class])\n",
        "\n",
        "pickle.dump(collected_mfccs, open('mfccs.pkl', 'wb'))\n",
        "\n",
        "from google.colab import files\n",
        "files.download('mfccs.pkl')\n",
        "\n",
        "with open('mfccs.pkl', 'rb') as f:\n",
        "  extract = pickle.load(f)"
      ],
      "execution_count": 3,
      "outputs": [
        {
          "output_type": "display_data",
          "data": {
            "application/javascript": [
              "\n",
              "    async function download(id, filename, size) {\n",
              "      if (!google.colab.kernel.accessAllowed) {\n",
              "        return;\n",
              "      }\n",
              "      const div = document.createElement('div');\n",
              "      const label = document.createElement('label');\n",
              "      label.textContent = `Downloading \"${filename}\": `;\n",
              "      div.appendChild(label);\n",
              "      const progress = document.createElement('progress');\n",
              "      progress.max = size;\n",
              "      div.appendChild(progress);\n",
              "      document.body.appendChild(div);\n",
              "\n",
              "      const buffers = [];\n",
              "      let downloaded = 0;\n",
              "\n",
              "      const channel = await google.colab.kernel.comms.open(id);\n",
              "      // Send a message to notify the kernel that we're ready.\n",
              "      channel.send({})\n",
              "\n",
              "      for await (const message of channel.messages) {\n",
              "        // Send a message to notify the kernel that we're ready.\n",
              "        channel.send({})\n",
              "        if (message.buffers) {\n",
              "          for (const buffer of message.buffers) {\n",
              "            buffers.push(buffer);\n",
              "            downloaded += buffer.byteLength;\n",
              "            progress.value = downloaded;\n",
              "          }\n",
              "        }\n",
              "      }\n",
              "      const blob = new Blob(buffers, {type: 'application/binary'});\n",
              "      const a = document.createElement('a');\n",
              "      a.href = window.URL.createObjectURL(blob);\n",
              "      a.download = filename;\n",
              "      div.appendChild(a);\n",
              "      a.click();\n",
              "      div.remove();\n",
              "    }\n",
              "  "
            ],
            "text/plain": [
              "<IPython.core.display.Javascript object>"
            ]
          },
          "metadata": {
            "tags": []
          }
        },
        {
          "output_type": "display_data",
          "data": {
            "application/javascript": [
              "download(\"download_a1dbd2c0-529f-4b0c-bc60-890e56b34684\", \"mfccs.pkl\", 364336455)"
            ],
            "text/plain": [
              "<IPython.core.display.Javascript object>"
            ]
          },
          "metadata": {
            "tags": []
          }
        }
      ]
    }
  ]
}